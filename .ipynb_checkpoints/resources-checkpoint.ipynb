{
 "cells": [
  {
   "cell_type": "code",
   "execution_count": 1,
   "id": "0b8d1ec7-e152-4e4b-8119-b9841110690f",
   "metadata": {},
   "outputs": [],
   "source": [
    "# %%============== Import libraries =========\n",
    "import numpy as np\n",
    "import pandas as pd\n",
    "import warnings\n",
    "import statsmodels.api as sm\n",
    "import matplotlib.pyplot as plt\n",
    "import seaborn as sns\n",
    "from sklearn.utils import stats\n",
    "from scipy import stats\n",
    "import my_functions as mf\n",
    "import plotly.express as px\n",
    "import my_functions as mf\n",
    "import plotly.io as pio\n",
    "import random\n",
    "import vs_functions as vl\n",
    "\n",
    "pio.renderers.default = \"browser\"\n",
    "import plotly.graph_objects as go"
   ]
  },
  {
   "cell_type": "code",
   "execution_count": 2,
   "id": "3fa501c4-1ecb-4dcc-947f-6f055d8580ee",
   "metadata": {},
   "outputs": [],
   "source": [
    "# %%==============  Define the initial values  =========\n",
    "\n",
    "users = random.sample(range(10, 300000), 6)\n",
    "tot_users = list(np.array(users))\n",
    "\n",
    "\n",
    "iaas_dict = {}\n",
    "caas_dict = {}\n",
    "i = []\n",
    "c = []\n",
    "appended_data = []\n"
   ]
  },
  {
   "cell_type": "code",
   "execution_count": 3,
   "id": "818084cb-d77c-4c21-8582-d1ff48ac8b4d",
   "metadata": {},
   "outputs": [],
   "source": [
    "# %%==============  Calculate the total resources per technology by users   =========\n",
    "vm_types = ['xsmall', 'small', 'medium', 'large'] \n",
    "# users_size = zip(users, vm_types)\n",
    "# users_size\n"
   ]
  },
  {
   "cell_type": "code",
   "execution_count": 19,
   "id": "bb0d3409-64aa-4ffc-a0d2-05dd62f07a63",
   "metadata": {},
   "outputs": [
    {
     "name": "stdout",
     "output_type": "stream",
     "text": [
      "i (28, 'xsmall', 2621, 1765, 35392.5)\n",
      "i (28, 'small', 2621, 1765, 35392.5)\n",
      "i (56, 'medium', 2621, 1765, 35392.5)\n",
      "i (28, 'large', 2621, 1765, 35392.5)\n",
      "i (5, 'xsmall', 439, 283, 5933.5)\n",
      "i (5, 'small', 439, 283, 5933.5)\n",
      "i (9, 'medium', 439, 283, 5933.5)\n",
      "i (5, 'large', 439, 283, 5933.5)\n",
      "i (52, 'xsmall', 4872, 3284, 66017.5)\n",
      "i (52, 'small', 4872, 3284, 66017.5)\n",
      "i (103, 'medium', 4872, 3284, 66017.5)\n",
      "i (52, 'large', 4872, 3284, 66017.5)\n",
      "i (12, 'xsmall', 1050, 706, 14259.5)\n",
      "i (12, 'small', 1050, 706, 14259.5)\n",
      "i (23, 'medium', 1050, 706, 14259.5)\n",
      "i (12, 'large', 1050, 706, 14259.5)\n",
      "i (44, 'xsmall', 4131, 2787, 55834.5)\n",
      "i (44, 'small', 4131, 2787, 55834.5)\n",
      "i (88, 'medium', 4131, 2787, 55834.5)\n",
      "i (44, 'large', 4131, 2787, 55834.5)\n",
      "i (66, 'xsmall', 6195, 4171, 83765.0)\n",
      "i (66, 'small', 6195, 4171, 83765.0)\n",
      "i (131, 'medium', 6195, 4171, 83765.0)\n",
      "i (66, 'large', 6195, 4171, 83765.0)\n",
      "iaas_dict {265430: (66, 'large', 6195, 4171, 83765.0), 112501: (28, 'large', 2621, 1765, 35392.5), 16773: (5, 'large', 439, 283, 5933.5), 209843: (52, 'large', 4872, 3284, 66017.5), 44037: (12, 'large', 1050, 706, 14259.5), 177961: (44, 'large', 4131, 2787, 55834.5)}\n",
      "caas_dict {265430: (44, 'large', 3752, 2768, 74970), 112501: (19, 'large', 1592, 1176, 31670), 16773: (3, 'large', 280, 192, 5355), 209843: (34, 'large', 2944, 2176, 59085), 44037: (8, 'large', 640, 472, 12770), 177961: (29, 'large', 2496, 1848, 49950)}\n"
     ]
    }
   ],
   "source": [
    "for vm_type in vm_types:\n",
    "    for users in tot_users:\n",
    "    # iaas_dict = dict([ (users, vl.caas.caas_total(users, vm_type)) for vm_type in vm_types])\n",
    "    # i = vl.iaas.iaas_total(users, vm_type)\n",
    "    # print ('i', i)\n",
    "    # iaas_dict[users] = i\n",
    "        i = vl.iaas.iaas_total(users, vm_type)\n",
    "        c = vl.caas.caas_total(users, vm_type)\n",
    "        print ('i',i)\n",
    "    iaas_dict[users] = i\n",
    "    caas_dict[users] = c\n",
    "\n",
    "    # print(iaas_dict)\n",
    "    # print(appended_data)\n",
    "\n",
    "\n",
    "print(\"iaas_dict\", iaas_dict)\n",
    "print(\"caas_dict\", caas_dict)"
   ]
  },
  {
   "cell_type": "code",
   "execution_count": 5,
   "id": "dff0c4a4-367a-47fb-9906-9da9e81c7927",
   "metadata": {},
   "outputs": [],
   "source": [
    "# Convert dictionary to dataframe\n",
    "iaas = pd.DataFrame.from_dict(i)\n",
    "caas = pd.DataFrame.from_dict(c)"
   ]
  },
  {
   "cell_type": "code",
   "execution_count": 6,
   "id": "08723f94-e65f-4f9b-bae7-ca4af50ca5db",
   "metadata": {},
   "outputs": [
    {
     "data": {
      "text/html": [
       "<div>\n",
       "<style scoped>\n",
       "    .dataframe tbody tr th:only-of-type {\n",
       "        vertical-align: middle;\n",
       "    }\n",
       "\n",
       "    .dataframe tbody tr th {\n",
       "        vertical-align: top;\n",
       "    }\n",
       "\n",
       "    .dataframe thead th {\n",
       "        text-align: right;\n",
       "    }\n",
       "</style>\n",
       "<table border=\"1\" class=\"dataframe\">\n",
       "  <thead>\n",
       "    <tr style=\"text-align: right;\">\n",
       "      <th></th>\n",
       "      <th>0</th>\n",
       "      <th>1</th>\n",
       "      <th>2</th>\n",
       "      <th>3</th>\n",
       "      <th>4</th>\n",
       "    </tr>\n",
       "  </thead>\n",
       "  <tbody>\n",
       "    <tr>\n",
       "      <th>0</th>\n",
       "      <td>66</td>\n",
       "      <td>large</td>\n",
       "      <td>6195</td>\n",
       "      <td>4171</td>\n",
       "      <td>83765.0</td>\n",
       "    </tr>\n",
       "  </tbody>\n",
       "</table>\n",
       "</div>"
      ],
      "text/plain": [
       "    0      1     2     3        4\n",
       "0  66  large  6195  4171  83765.0"
      ]
     },
     "execution_count": 6,
     "metadata": {},
     "output_type": "execute_result"
    }
   ],
   "source": [
    "# Transpose the dataframe\n",
    "iaas = iaas.transpose()\n",
    "caas = caas.transpose()\n",
    "iaas.head()"
   ]
  },
  {
   "cell_type": "code",
   "execution_count": 7,
   "id": "86f86026-1659-4dbd-b1fb-d7c4243d6983",
   "metadata": {},
   "outputs": [
    {
     "data": {
      "text/html": [
       "<div>\n",
       "<style scoped>\n",
       "    .dataframe tbody tr th:only-of-type {\n",
       "        vertical-align: middle;\n",
       "    }\n",
       "\n",
       "    .dataframe tbody tr th {\n",
       "        vertical-align: top;\n",
       "    }\n",
       "\n",
       "    .dataframe thead th {\n",
       "        text-align: right;\n",
       "    }\n",
       "</style>\n",
       "<table border=\"1\" class=\"dataframe\">\n",
       "  <thead>\n",
       "    <tr style=\"text-align: right;\">\n",
       "      <th></th>\n",
       "      <th>0</th>\n",
       "      <th>1</th>\n",
       "      <th>2</th>\n",
       "      <th>3</th>\n",
       "      <th>4</th>\n",
       "    </tr>\n",
       "  </thead>\n",
       "  <tbody>\n",
       "    <tr>\n",
       "      <th>0</th>\n",
       "      <td>44</td>\n",
       "      <td>large</td>\n",
       "      <td>3752</td>\n",
       "      <td>2768</td>\n",
       "      <td>74970</td>\n",
       "    </tr>\n",
       "  </tbody>\n",
       "</table>\n",
       "</div>"
      ],
      "text/plain": [
       "    0      1     2     3      4\n",
       "0  44  large  3752  2768  74970"
      ]
     },
     "execution_count": 7,
     "metadata": {},
     "output_type": "execute_result"
    }
   ],
   "source": [
    "caas.head()"
   ]
  },
  {
   "cell_type": "code",
   "execution_count": 8,
   "id": "6dc0681b-6dac-42b4-b605-c72217346adb",
   "metadata": {},
   "outputs": [
    {
     "name": "stdout",
     "output_type": "stream",
     "text": [
      "<class 'pandas.core.frame.DataFrame'>\n",
      "RangeIndex: 1 entries, 0 to 0\n",
      "Data columns (total 6 columns):\n",
      " #   Column      Non-Null Count  Dtype \n",
      "---  ------      --------------  ----- \n",
      " 0   0           1 non-null      object\n",
      " 1   1           1 non-null      object\n",
      " 2   2           1 non-null      object\n",
      " 3   3           1 non-null      object\n",
      " 4   4           1 non-null      object\n",
      " 5   technology  1 non-null      object\n",
      "dtypes: object(6)\n",
      "memory usage: 176.0+ bytes\n"
     ]
    }
   ],
   "source": [
    "# Add a column for tech\n",
    "iaas['technology'] = 'iaas'\n",
    "caas['technology'] = 'caas'\n",
    "iaas.info()"
   ]
  },
  {
   "cell_type": "code",
   "execution_count": 9,
   "id": "8ebe3862-f961-486f-9df3-0a1686ade603",
   "metadata": {},
   "outputs": [
    {
     "name": "stdout",
     "output_type": "stream",
     "text": [
      "<class 'pandas.core.frame.DataFrame'>\n",
      "RangeIndex: 1 entries, 0 to 0\n",
      "Data columns (total 6 columns):\n",
      " #   Column      Non-Null Count  Dtype \n",
      "---  ------      --------------  ----- \n",
      " 0   0           1 non-null      object\n",
      " 1   1           1 non-null      object\n",
      " 2   2           1 non-null      object\n",
      " 3   3           1 non-null      object\n",
      " 4   4           1 non-null      object\n",
      " 5   technology  1 non-null      object\n",
      "dtypes: object(6)\n",
      "memory usage: 176.0+ bytes\n"
     ]
    }
   ],
   "source": [
    "caas.info()"
   ]
  },
  {
   "cell_type": "code",
   "execution_count": 10,
   "id": "b1bff7ee-e009-4454-943f-9e7b1ef8568a",
   "metadata": {},
   "outputs": [],
   "source": [
    "# Make index to column\n",
    "iaas.reset_index(inplace=True)\n",
    "caas.reset_index(inplace=True)\n"
   ]
  },
  {
   "cell_type": "code",
   "execution_count": 11,
   "id": "a5cca65d-1436-4e38-b445-91062172ee01",
   "metadata": {},
   "outputs": [
    {
     "data": {
      "text/html": [
       "<div>\n",
       "<style scoped>\n",
       "    .dataframe tbody tr th:only-of-type {\n",
       "        vertical-align: middle;\n",
       "    }\n",
       "\n",
       "    .dataframe tbody tr th {\n",
       "        vertical-align: top;\n",
       "    }\n",
       "\n",
       "    .dataframe thead th {\n",
       "        text-align: right;\n",
       "    }\n",
       "</style>\n",
       "<table border=\"1\" class=\"dataframe\">\n",
       "  <thead>\n",
       "    <tr style=\"text-align: right;\">\n",
       "      <th></th>\n",
       "      <th>index</th>\n",
       "      <th>0</th>\n",
       "      <th>1</th>\n",
       "      <th>2</th>\n",
       "      <th>3</th>\n",
       "      <th>4</th>\n",
       "      <th>technology</th>\n",
       "    </tr>\n",
       "  </thead>\n",
       "  <tbody>\n",
       "    <tr>\n",
       "      <th>0</th>\n",
       "      <td>0</td>\n",
       "      <td>66</td>\n",
       "      <td>large</td>\n",
       "      <td>6195</td>\n",
       "      <td>4171</td>\n",
       "      <td>83765.0</td>\n",
       "      <td>iaas</td>\n",
       "    </tr>\n",
       "  </tbody>\n",
       "</table>\n",
       "</div>"
      ],
      "text/plain": [
       "   index   0      1     2     3        4 technology\n",
       "0      0  66  large  6195  4171  83765.0       iaas"
      ]
     },
     "execution_count": 11,
     "metadata": {},
     "output_type": "execute_result"
    }
   ],
   "source": [
    "iaas.head()"
   ]
  },
  {
   "cell_type": "code",
   "execution_count": 12,
   "id": "b8d4646f-309d-4a69-adb2-a12408f0bf05",
   "metadata": {},
   "outputs": [
    {
     "data": {
      "text/html": [
       "<div>\n",
       "<style scoped>\n",
       "    .dataframe tbody tr th:only-of-type {\n",
       "        vertical-align: middle;\n",
       "    }\n",
       "\n",
       "    .dataframe tbody tr th {\n",
       "        vertical-align: top;\n",
       "    }\n",
       "\n",
       "    .dataframe thead th {\n",
       "        text-align: right;\n",
       "    }\n",
       "</style>\n",
       "<table border=\"1\" class=\"dataframe\">\n",
       "  <thead>\n",
       "    <tr style=\"text-align: right;\">\n",
       "      <th></th>\n",
       "      <th>users</th>\n",
       "      <th>vms/inst</th>\n",
       "      <th>size</th>\n",
       "      <th>RAM</th>\n",
       "      <th>CPU</th>\n",
       "      <th>STORAGE</th>\n",
       "      <th>technology</th>\n",
       "    </tr>\n",
       "  </thead>\n",
       "  <tbody>\n",
       "    <tr>\n",
       "      <th>0</th>\n",
       "      <td>0</td>\n",
       "      <td>66</td>\n",
       "      <td>large</td>\n",
       "      <td>6195</td>\n",
       "      <td>4171</td>\n",
       "      <td>83765.0</td>\n",
       "      <td>iaas</td>\n",
       "    </tr>\n",
       "  </tbody>\n",
       "</table>\n",
       "</div>"
      ],
      "text/plain": [
       "   users vms/inst   size   RAM   CPU  STORAGE technology\n",
       "0      0       66  large  6195  4171  83765.0       iaas"
      ]
     },
     "execution_count": 12,
     "metadata": {},
     "output_type": "execute_result"
    }
   ],
   "source": [
    "# Rename the columns\n",
    "iaas.columns = ['users', 'vms/inst', 'size', 'RAM', 'CPU', 'STORAGE', 'technology']\n",
    "caas.columns = ['users', 'vms/inst', 'size', 'RAM', 'CPU', 'STORAGE', 'technology']\n",
    "iaas.head()"
   ]
  },
  {
   "cell_type": "code",
   "execution_count": 13,
   "id": "4ff7f6e7-6a40-4efc-a7cb-a2107666b888",
   "metadata": {},
   "outputs": [],
   "source": [
    "# Concatenate the dataframes\n",
    "frames = [iaas, caas]\n",
    "df = pd.concat(frames, ignore_index=True)\n",
    "df.head()\n",
    "df.to_csv(f'datasets/user_rsc_randm.csv')"
   ]
  },
  {
   "cell_type": "code",
   "execution_count": 14,
   "id": "42d4699c-765a-4495-89d8-f9644ba3cbc4",
   "metadata": {},
   "outputs": [],
   "source": [
    "# %% ================ Visualization ========================\n",
    "#\n",
    "# Grouped figured with averaged value\n",
    "fig = px.histogram(df, x=\"technology\", y=['RAM', 'CPU', 'STORAGE'], log_y=True,\n",
    "                   barmode='group', text_auto=True, histfunc='avg')\n",
    "fig.show()\n",
    "fig.write_html(\"resources_compare.html\")\n",
    "# %%\n",
    "fig2 = px.scatter(df, x=\"users\", y=['RAM', 'CPU', 'STORAGE'], facet_col='technology', log_y=True)\n",
    "fig2.show()\n",
    "fig2.write_html(\"users_resources.html\")"
   ]
  }
 ],
 "metadata": {
  "kernelspec": {
   "display_name": "cloud22",
   "language": "python",
   "name": "cloud22"
  },
  "language_info": {
   "codemirror_mode": {
    "name": "ipython",
    "version": 3
   },
   "file_extension": ".py",
   "mimetype": "text/x-python",
   "name": "python",
   "nbconvert_exporter": "python",
   "pygments_lexer": "ipython3",
   "version": "3.9.7"
  }
 },
 "nbformat": 4,
 "nbformat_minor": 5
}
