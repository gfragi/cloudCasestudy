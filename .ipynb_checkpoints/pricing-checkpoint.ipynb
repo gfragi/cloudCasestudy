{
 "cells": [
  {
   "cell_type": "code",
   "execution_count": 1,
   "id": "f8572eed-7ebe-4fa8-809b-5cab126ece25",
   "metadata": {},
   "outputs": [
    {
     "ename": "NameError",
     "evalue": "name 'pio' is not defined",
     "output_type": "error",
     "traceback": [
      "\u001b[0;31m---------------------------------------------------------------------------\u001b[0m",
      "\u001b[0;31mNameError\u001b[0m                                 Traceback (most recent call last)",
      "Input \u001b[0;32mIn [1]\u001b[0m, in \u001b[0;36m<cell line: 5>\u001b[0;34m()\u001b[0m\n\u001b[1;32m      2\u001b[0m \u001b[38;5;28;01mimport\u001b[39;00m \u001b[38;5;21;01mpandas\u001b[39;00m \u001b[38;5;28;01mas\u001b[39;00m \u001b[38;5;21;01mpd\u001b[39;00m\n\u001b[1;32m      3\u001b[0m \u001b[38;5;28;01mimport\u001b[39;00m \u001b[38;5;21;01mplotly\u001b[39;00m\u001b[38;5;21;01m.\u001b[39;00m\u001b[38;5;21;01mexpress\u001b[39;00m \u001b[38;5;28;01mas\u001b[39;00m \u001b[38;5;21;01mpx\u001b[39;00m\n\u001b[0;32m----> 5\u001b[0m \u001b[43mpio\u001b[49m\u001b[38;5;241m.\u001b[39mrenderers\u001b[38;5;241m.\u001b[39mdefault \u001b[38;5;241m=\u001b[39m \u001b[38;5;124m\"\u001b[39m\u001b[38;5;124mbrowser\u001b[39m\u001b[38;5;124m\"\u001b[39m\n",
      "\u001b[0;31mNameError\u001b[0m: name 'pio' is not defined"
     ]
    }
   ],
   "source": [
    "import numpy as np\n",
    "import pandas as pd\n",
    "import plotly.express as px\n",
    "import plotly.io as pio\n",
    "\n",
    "pio.renderers.default = \"browser\"\n"
   ]
  },
  {
   "cell_type": "code",
   "execution_count": null,
   "id": "b31469c9-9e6e-4ae1-a4b6-e6f050fa7991",
   "metadata": {},
   "outputs": [],
   "source": [
    "# Load the data\n",
    "\n",
    "user_rsc = pd.read_csv(f'datasets/user_component_randm.csv')\n",
    "total_inst = pd.read_csv(f'datasets/total_instances.csv')\n",
    "strg = pd.read_csv(f'datasets/strg_price.csv')\n",
    "cpu_ram = pd.read_csv(f'datasets/cpu_ram_price.csv')\n",
    "total_inst"
   ]
  },
  {
   "cell_type": "code",
   "execution_count": null,
   "id": "58c404f7-a4b0-4bc0-b428-a5104f8c161f",
   "metadata": {},
   "outputs": [],
   "source": [
    "# Rename dataframes' column\n",
    "strg = strg.rename(columns={'Unnamed: 0': 'Label'})\n",
    "cpu_ram = cpu_ram.rename(columns={'Unnamed: 0': 'Label'})\n",
    "user_rsc = user_rsc.rename(columns={'size': 'Label'})\n",
    "user_rsc = user_rsc.drop(columns='Unnamed: 0')\n",
    "total_inst = total_inst.drop(columns='Unnamed: 0')\n",
    "\n",
    "strg"
   ]
  },
  {
   "cell_type": "code",
   "execution_count": null,
   "id": "4c0ba9b7-84c1-409b-89bf-86b6242e2b93",
   "metadata": {},
   "outputs": [],
   "source": [
    "total_inst['iaas_cpu_ram'] = total_inst['iaas instances'] * cpu_ram['Mean_price'][1]\n",
    "total_inst['caas_cpu_ram'] = total_inst['caas instances'] * cpu_ram['Mean_price'][0]\n",
    "\n",
    "total_inst"
   ]
  },
  {
   "cell_type": "code",
   "execution_count": null,
   "id": "aa068eed-11b3-4a87-9300-8904ed31c64b",
   "metadata": {},
   "outputs": [],
   "source": [
    "total_inst = total_inst.sort_values(by='users')\n",
    "fig = px.line(total_inst, x='users', y=['iaas_cpu_ram', 'caas_cpu_ram'], title='CPU & RAM cost',\n",
    "             labels={\n",
    "                     \"value\": \"Price per Hour\"})\n",
    "              \n",
    "fig.show()"
   ]
  }
 ],
 "metadata": {
  "kernelspec": {
   "display_name": "cloud22",
   "language": "python",
   "name": "cloud22"
  },
  "language_info": {
   "codemirror_mode": {
    "name": "ipython",
    "version": 3
   },
   "file_extension": ".py",
   "mimetype": "text/x-python",
   "name": "python",
   "nbconvert_exporter": "python",
   "pygments_lexer": "ipython3",
   "version": "3.9.7"
  }
 },
 "nbformat": 4,
 "nbformat_minor": 5
}
