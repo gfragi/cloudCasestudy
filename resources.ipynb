{
 "cells": [
  {
   "cell_type": "code",
   "execution_count": 1,
   "id": "0b8d1ec7-e152-4e4b-8119-b9841110690f",
   "metadata": {},
   "outputs": [],
   "source": [
    "# %%============== Import libraries =========\n",
    "import numpy as np\n",
    "import pandas as pd\n",
    "import warnings\n",
    "import statsmodels.api as sm\n",
    "import matplotlib.pyplot as plt\n",
    "import seaborn as sns\n",
    "from sklearn.utils import stats\n",
    "from scipy import stats\n",
    "import my_functions as mf\n",
    "import plotly.express as px\n",
    "import my_functions as mf\n",
    "import plotly.io as pio\n",
    "import random\n",
    "\n",
    "pio.renderers.default = \"browser\"\n",
    "import plotly.graph_objects as go"
   ]
  },
  {
   "cell_type": "code",
   "execution_count": 2,
   "id": "3fa501c4-1ecb-4dcc-947f-6f055d8580ee",
   "metadata": {},
   "outputs": [],
   "source": [
    "# %%==============  Define the initial values  =========\n",
    "\n",
    "users = random.sample(range(1000, 300000), 15000)\n",
    "tot_users = np.array(users)\n",
    "\n",
    "iaas_dict = {}\n",
    "caas_dict = {}"
   ]
  },
  {
   "cell_type": "code",
   "execution_count": 3,
   "id": "818084cb-d77c-4c21-8582-d1ff48ac8b4d",
   "metadata": {},
   "outputs": [],
   "source": [
    "# %%==============  Calculate the total resources per technology by users   =========\n",
    "\n",
    "for users in tot_users:\n",
    "    iaas_dict[users] = mf.iaas.iaas_total(users)\n",
    "    caas_dict[users] = mf.caas.caas_total(users)"
   ]
  },
  {
   "cell_type": "code",
   "execution_count": 4,
   "id": "dff0c4a4-367a-47fb-9906-9da9e81c7927",
   "metadata": {},
   "outputs": [],
   "source": [
    "# Convert dictionary to dataframe\n",
    "iaas = pd.DataFrame.from_dict(iaas_dict)\n",
    "\n",
    "caas = pd.DataFrame.from_dict(caas_dict)"
   ]
  },
  {
   "cell_type": "code",
   "execution_count": 5,
   "id": "08723f94-e65f-4f9b-bae7-ca4af50ca5db",
   "metadata": {},
   "outputs": [],
   "source": [
    "# Transpose the dataframe\n",
    "iaas = iaas.transpose()\n",
    "caas = caas.transpose()"
   ]
  },
  {
   "cell_type": "code",
   "execution_count": 6,
   "id": "6dc0681b-6dac-42b4-b605-c72217346adb",
   "metadata": {},
   "outputs": [],
   "source": [
    "# Add a column for tech\n",
    "iaas['technology'] = 'iaas'\n",
    "caas['technology'] = 'caas'"
   ]
  },
  {
   "cell_type": "code",
   "execution_count": 7,
   "id": "b1bff7ee-e009-4454-943f-9e7b1ef8568a",
   "metadata": {},
   "outputs": [],
   "source": [
    "# Make index to column\n",
    "iaas.reset_index(inplace=True)\n",
    "caas.reset_index(inplace=True)"
   ]
  },
  {
   "cell_type": "code",
   "execution_count": 8,
   "id": "b8d4646f-309d-4a69-adb2-a12408f0bf05",
   "metadata": {},
   "outputs": [],
   "source": [
    "# Rename the columns\n",
    "iaas.columns = ['users', 'ram', 'cores', 'disk', 'technology']\n",
    "caas.columns = ['users', 'ram', 'cores', 'disk', 'technology']"
   ]
  },
  {
   "cell_type": "code",
   "execution_count": 9,
   "id": "4ff7f6e7-6a40-4efc-a7cb-a2107666b888",
   "metadata": {},
   "outputs": [],
   "source": [
    "# Concatenate the dataframes\n",
    "frames = [iaas, caas]\n",
    "df = pd.concat(frames, ignore_index=True)"
   ]
  },
  {
   "cell_type": "code",
   "execution_count": 10,
   "id": "42d4699c-765a-4495-89d8-f9644ba3cbc4",
   "metadata": {},
   "outputs": [],
   "source": [
    "# %% ================ Visualization ========================\n",
    "#\n",
    "# Grouped figured with averaged value\n",
    "fig = px.histogram(df, x=\"technology\", y=['ram', 'cores', 'disk'], log_y=False,\n",
    "                   barmode='group', text_auto=True, histfunc='avg')\n",
    "fig.show()\n",
    "fig.write_html(\"resources_compare.html\")\n",
    "# %%\n",
    "fig2 = px.scatter(df, x=\"users\", y=['ram', 'cores', 'disk'], facet_col='technology', log_y=False)\n",
    "fig2.show()\n",
    "fig2.write_html(\"users_resources.html\")"
   ]
  }
 ],
 "metadata": {
  "kernelspec": {
   "display_name": "cloud22",
   "language": "python",
   "name": "cloud22"
  },
  "language_info": {
   "codemirror_mode": {
    "name": "ipython",
    "version": 3
   },
   "file_extension": ".py",
   "mimetype": "text/x-python",
   "name": "python",
   "nbconvert_exporter": "python",
   "pygments_lexer": "ipython3",
   "version": "3.9.7"
  }
 },
 "nbformat": 4,
 "nbformat_minor": 5
}
